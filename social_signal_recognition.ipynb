{
 "cells": [
  {
   "cell_type": "markdown",
   "metadata": {},
   "source": [
    "## Setup\n",
    "\n",
    "___\n",
    "\n",
    "#### Install dependencies"
   ]
  },
  {
   "cell_type": "markdown",
   "metadata": {},
   "source": [
    "# %%bash\n",
    "\n",
    "!pip install numpy pandas matplotlib torch torchvision scikit-learn seaborn\n",
    "\n",
    "!pip install opencv-python"
   ]
  },
  {
   "cell_type": "markdown",
   "metadata": {},
   "source": [
    "#### Import dependencies"
   ]
  },
  {
   "cell_type": "code",
   "execution_count": 3,
   "metadata": {},
   "outputs": [],
   "source": [
    "import numpy as np\n",
    "import pandas as pd\n",
    "import seaborn as sns\n",
    "import matplotlib.pyplot as plt\n",
    "%matplotlib inline\n",
    "\n",
    "from PIL import Image\n",
    "\n",
    "import os\n",
    "import cv2\n",
    "\n",
    "import torch\n",
    "import torch.nn as nn\n",
    "import torch.optim as optim\n",
    "import torch.nn.functional as F\n",
    "from torch.utils.data import Dataset, DataLoader\n",
    "from torchvision import transforms\n",
    "\n",
    "from sklearn.metrics import accuracy_score, precision_score, recall_score, f1_score, confusion_matrix\n",
    "from sklearn.model_selection import KFold\n",
    "\n",
    "from image_dataloader import SocialSignalDataset\n"
   ]
  },
  {
   "cell_type": "markdown",
   "metadata": {},
   "source": [
    "#### Initialize constants"
   ]
  },
  {
   "cell_type": "code",
   "execution_count": 4,
   "metadata": {},
   "outputs": [],
   "source": [
    "# dataset\n",
    "dataset_path = 'data/train'\n",
    "\n",
    "image_length = 112\n",
    "image_size = (image_length, image_length)\n",
    "\n",
    "label_mapping = {\n",
    "    0: \"surprise\",\n",
    "    1: \"fear\"\n",
    "}\n",
    "\n",
    "# loaders\n",
    "batch_size = 16\n",
    "\n",
    "# model training\n",
    "num_epochs =  5\n"
   ]
  },
  {
   "cell_type": "markdown",
   "metadata": {},
   "source": [
    "## Dataset\n",
    "\n",
    "---\n",
    "\n",
    "#### Load and transform the dataset"
   ]
  },
  {
   "cell_type": "code",
   "execution_count": 5,
   "metadata": {},
   "outputs": [],
   "source": [
    "img_transform = transforms.Compose([\n",
    "    transforms.Grayscale(3), # RGB\n",
    "    transforms.Resize(image_size),\n",
    "    transforms.ToTensor(),\n",
    "    transforms.Normalize(mean=[0.5, 0.5, 0.5], std=[0.5, 0.5, 0.5])\n",
    "])\n",
    "\n",
    "dataset = SocialSignalDataset(root_dir=dataset_path, transform=img_transform)"
   ]
  },
  {
   "cell_type": "markdown",
   "metadata": {},
   "source": [
    "#### Split data set into training and validation"
   ]
  },
  {
   "cell_type": "code",
   "execution_count": 6,
   "metadata": {},
   "outputs": [
    {
     "name": "stdout",
     "output_type": "stream",
     "text": [
      "Input shape: torch.Size([16, 3, 112, 112])\n",
      "Labels shape: torch.Size([16])\n"
     ]
    }
   ],
   "source": [
    "train_dataset, val_dataset = torch.utils.data.random_split(dataset, [0.8, 0.2])\n",
    "\n",
    "train_loader = DataLoader(train_dataset, batch_size=batch_size, shuffle=True) \n",
    "val_loader = DataLoader(val_dataset, batch_size=batch_size, shuffle=True) \n",
    "\n",
    "# Check input size for forward feed network\n",
    "for inputs, labels in train_loader:\n",
    "    print(\"Input shape:\", inputs.shape)\n",
    "    print(\"Labels shape:\", labels.shape)\n",
    "    break  # We only want to check the first batch"
   ]
  },
  {
   "cell_type": "markdown",
   "metadata": {},
   "source": [
    "## Model Setup\n",
    "___\n",
    "\n",
    "#### CNN"
   ]
  },
  {
   "cell_type": "code",
   "execution_count": 7,
   "metadata": {},
   "outputs": [],
   "source": [
    "class SocialSignalModel(nn.Module):\n",
    "    def __init__(self, num_classes=2):\n",
    "        super(SocialSignalModel, self).__init__()\n",
    "        \"\"\"\"\n",
    "        input_channel: 3 or 4 // test which one gets better inputs\n",
    "            - 3: for RGB\n",
    "            - 4: +1 for Depth from camera\n",
    "        num_classes: 2 \n",
    "            0 for surprise, 1 for fear\n",
    "        \"\"\"\n",
    "        \n",
    "        self.cnn = nn.Sequential(\n",
    "            nn.Conv2d(3, 32, kernel_size=3, stride=1, padding=1), \n",
    "            nn.ReLU(),\n",
    "            nn.MaxPool2d(kernel_size=2, stride=2),\n",
    "\n",
    "            nn.Conv2d(32, 64, kernel_size=3, stride=1, padding=1),\n",
    "            nn.ReLU(),\n",
    "            nn.MaxPool2d(kernel_size=2, stride=2),\n",
    "\n",
    "            nn.Conv2d(64, 128, kernel_size=3, stride=1, padding=1),\n",
    "            nn.ReLU(),\n",
    "            nn.MaxPool2d(kernel_size=2, stride=2),\n",
    "        ) \n",
    "        \n",
    "        # Input size 128 * 14 * 14\n",
    "        self.in_features = 128 * 14 * 14 #Flattened size after 3 Conv2d Layers and Pooling\n",
    "        self.fc = nn.Linear(self.in_features, num_classes) # in_features = batch_size\n",
    "\n",
    "    def forward(self, x):\n",
    "        # TODO: IMPLEMENT\n",
    "        # CNN --> Conv2d(N,Cin,H,W) --> (N, C_out, H_out,W_out)\n",
    "        x = self.cnn(x)\n",
    "\n",
    "        # Flatten \n",
    "        x = x.view(-1,self.in_features)\n",
    "\n",
    "        # Fully Connected Layer\n",
    "        x = self.fc(x)\n",
    "        \n",
    "        return x"
   ]
  },
  {
   "cell_type": "markdown",
   "metadata": {},
   "source": [
    "#### Training"
   ]
  },
  {
   "cell_type": "code",
   "execution_count": 8,
   "metadata": {},
   "outputs": [],
   "source": [
    "# Training function to use for model training and 7-fold cross validation \n",
    "def training(train_loader, num_epochs, model, device, criterion, optimizer):\n",
    "    # From Assignment 3 Training\n",
    "    for epoch in range(num_epochs):\n",
    "        model.train()  # Set model to training mode\n",
    "        running_loss = 0.0\n",
    "        correct = 0\n",
    "        total = 0\n",
    "\n",
    "        # Loop over each batch\n",
    "        for i, (sequences, labels) in enumerate(train_loader):\n",
    "            sequences, labels = sequences.to(device), labels.to(device)\n",
    "\n",
    "            # Zero the gradients\n",
    "            optimizer.zero_grad()\n",
    "\n",
    "            # Forward pass\n",
    "            outputs = model(sequences)\n",
    "\n",
    "            # Compute loss\n",
    "            loss = criterion(outputs, labels)\n",
    "\n",
    "            # Backward pass\n",
    "            loss.backward()\n",
    "\n",
    "            # Optimize the model\n",
    "            optimizer.step()\n",
    "\n",
    "            # Calculate accuracy\n",
    "            _, predicted = torch.max(outputs, 1)\n",
    "            total += labels.size(0)\n",
    "            correct += (predicted == labels).sum().item()\n",
    "\n",
    "            running_loss += loss.item()\n",
    "\n",
    "        # Print statistics for the epoch\n",
    "        epoch_loss = running_loss / len(train_loader)\n",
    "        epoch_accuracy = 100 * correct / total\n",
    "        print(f\"Epoch [{epoch+1}/{num_epochs}], Loss: {epoch_loss:.4f}, Accuracy: {epoch_accuracy:.2f}%\")\n",
    "    return model\n",
    "        # if epoch%5 == 0: # change the saving frequency as you want\n",
    "        #     model_path = os.path.join('./model_configs', f'image_lstm_model_{epoch}.pth')\n",
    "        #     torch.save(model.state_dict(), model_path)"
   ]
  },
  {
   "cell_type": "code",
   "execution_count": 9,
   "metadata": {},
   "outputs": [
    {
     "name": "stdout",
     "output_type": "stream",
     "text": [
      "Epoch [1/5], Loss: 0.6928, Accuracy: 50.00%\n",
      "Epoch [2/5], Loss: 0.6806, Accuracy: 59.64%\n",
      "Epoch [3/5], Loss: 0.6563, Accuracy: 60.84%\n",
      "Epoch [4/5], Loss: 0.6424, Accuracy: 60.84%\n",
      "Epoch [5/5], Loss: 0.6139, Accuracy: 59.64%\n"
     ]
    }
   ],
   "source": [
    "# Set device (GPU if available)\n",
    "device = torch.device(\"cuda\" if torch.cuda.is_available() else \"cpu\")\n",
    "\n",
    "# Define the model\n",
    "model = SocialSignalModel().to(device)\n",
    "\n",
    "# Loss function and optimizer\n",
    "criterion = nn.CrossEntropyLoss()  # For multi-class classification\n",
    "optimizer = optim.Adam(model.parameters(), lr=0.001) \n",
    "\n",
    "model = training(train_loader, num_epochs, model, device, criterion, optimizer)"
   ]
  },
  {
   "cell_type": "markdown",
   "metadata": {},
   "source": [
    "#### Get outputs for train and validation datasets"
   ]
  },
  {
   "cell_type": "code",
   "execution_count": 10,
   "metadata": {},
   "outputs": [],
   "source": [
    "model.eval()\n",
    "\n",
    "val_predictions = []\n",
    "val_labels = []\n",
    "\n",
    "with torch.no_grad():  # No gradients needed for inference\n",
    "    for inputs, labels in val_loader:\n",
    "        inputs, labels = inputs.to(device), labels.to(device)\n",
    "        \n",
    "        outputs = model(inputs)\n",
    "        _, predictions = torch.max(outputs, 1)\n",
    "\n",
    "        val_predictions.extend(predictions.cpu().numpy())\n",
    "        val_labels.extend(labels.cpu().numpy())\n",
    "\n",
    "train_predictions = []\n",
    "train_labels = []\n",
    "\n",
    "with torch.no_grad():  # No gradients needed for inference\n",
    "    for inputs, labels in train_loader:\n",
    "        inputs, labels = inputs.to(device), labels.to(device)\n",
    "        \n",
    "        outputs = model(inputs)\n",
    "        _, predictions = torch.max(outputs, 1)\n",
    "\n",
    "        train_predictions.extend(predictions.cpu().numpy())\n",
    "        train_labels.extend(labels.cpu().numpy())"
   ]
  },
  {
   "cell_type": "markdown",
   "metadata": {},
   "source": [
    "#### Model summary"
   ]
  },
  {
   "cell_type": "code",
   "execution_count": 11,
   "metadata": {},
   "outputs": [
    {
     "name": "stdout",
     "output_type": "stream",
     "text": [
      "Precision: 0.6099\n",
      "Recall: 0.6098\n",
      "Train Accuracy: 69.88%\n",
      "Test Accuracy: 60.98%\n",
      "F1 Score: 0.6084\n"
     ]
    }
   ],
   "source": [
    "train_accuracy = accuracy_score(train_labels, train_predictions)\n",
    "val_accuracy = accuracy_score(val_labels, val_predictions)\n",
    "\n",
    "precision = precision_score(val_labels, val_predictions, average='weighted')\n",
    "recall = recall_score(val_labels, val_predictions, average='weighted')\n",
    "f1 = f1_score(val_labels, val_predictions, average='weighted')\n",
    "\n",
    "print(f\"Precision: {precision:.4f}\")\n",
    "print(f\"Recall: {recall:.4f}\")\n",
    "print(f\"Train Accuracy: {train_accuracy * 100:.2f}%\")\n",
    "print(f\"Test Accuracy: {val_accuracy * 100:.2f}%\")\n",
    "print(f\"F1 Score: {f1:.4f}\")"
   ]
  },
  {
   "cell_type": "markdown",
   "metadata": {},
   "source": [
    "#### Confusion matrix on validation dataset"
   ]
  },
  {
   "cell_type": "code",
   "execution_count": 12,
   "metadata": {},
   "outputs": [
    {
     "name": "stdout",
     "output_type": "stream",
     "text": [
      "[[14  7]\n",
      " [ 9 11]]\n"
     ]
    },
    {
     "data": {
      "image/png": "[encoded data removed]",
      "text/plain": [
       "<Figure size 1000x800 with 2 Axes>"
      ]
     },
     "metadata": {},
     "output_type": "display_data"
    }
   ],
   "source": [
    "# ref: https://www.w3schools.com/python/python_ml_confusion_matrix.asp\n",
    "\n",
    "cm = confusion_matrix(val_labels, val_predictions)\n",
    "\n",
    "print(cm)\n",
    "\n",
    "ticks = [\"Surprise\", \"Fear\"]\n",
    "\n",
    "plt.figure(figsize=(10, 8))\n",
    "sns.heatmap(cm, annot=True, fmt='d', cmap='Blues', xticklabels=ticks, yticklabels=ticks)\n",
    "plt.xlabel('Predicted')\n",
    "plt.ylabel('Actual')\n",
    "plt.title('Confusion Matrix')\n",
    "plt.show()"
   ]
  },
  {
   "cell_type": "markdown",
   "metadata": {},
   "source": [
    "## Evaluation\n",
    "\n",
    "___\n",
    "\n",
    "#### ROC-AUC"
   ]
  },
  {
   "cell_type": "code",
   "execution_count": null,
   "metadata": {},
   "outputs": [
    {
     "name": "stdout",
     "output_type": "stream",
     "text": [
      "FPR: [0.         0.33333333 1.        ], Len: 3\n",
      "TPR: [0.   0.55 1.  ], Len: 3\n",
      "AUC: 0.6083333333333334\n"
     ]
    },
    {
     "data": {
      "image/png": "[encoded data removed]",
      "text/plain": [
       "<Figure size 640x480 with 1 Axes>"
      ]
     },
     "metadata": {},
     "output_type": "display_data"
    }
   ],
   "source": [
    "from sklearn.metrics import roc_curve, roc_auc_score\n",
    "from sklearn.metrics import RocCurveDisplay\n",
    "\n",
    "fpr, tpr, thresholds = roc_curve(val_labels, val_predictions)\n",
    "auc_score = roc_auc_score(val_labels, val_predictions)\n",
    "\n",
    "print(f'FPR: {fpr}, Len: {len(fpr)}')\n",
    "print(f'TPR: {tpr}, Len: {len(tpr)}')\n",
    "print(f'AUC: {auc_score}')\n",
    "\n",
    "roc_display2 = RocCurveDisplay.from_predictions(val_labels, val_predictions)\n",
    "plt.grid(True)\n",
    "plt.show()\n",
    "\n"
   ]
  },
  {
   "cell_type": "markdown",
   "metadata": {},
   "source": [
    "#### 7-Fold Cross Validation"
   ]
  },
  {
   "cell_type": "code",
   "execution_count": null,
   "metadata": {},
   "outputs": [
    {
     "name": "stdout",
     "output_type": "stream",
     "text": [
      "Current Fold: 0\n",
      "Epoch [1/5], Loss: 0.7221, Accuracy: 53.52%\n",
      "Epoch [2/5], Loss: 0.6890, Accuracy: 53.52%\n",
      "Epoch [3/5], Loss: 0.6540, Accuracy: 65.49%\n",
      "Epoch [4/5], Loss: 0.6208, Accuracy: 64.79%\n",
      "Epoch [5/5], Loss: 0.5451, Accuracy: 72.54%\n",
      "FOLD0 f1score: 0.7037822552138564\n",
      "Current Fold: 1\n",
      "Epoch [1/5], Loss: 0.7185, Accuracy: 54.23%\n",
      "Epoch [2/5], Loss: 0.6508, Accuracy: 58.45%\n",
      "Epoch [3/5], Loss: 0.6177, Accuracy: 61.97%\n",
      "Epoch [4/5], Loss: 0.5722, Accuracy: 69.72%\n",
      "Epoch [5/5], Loss: 0.4849, Accuracy: 74.65%\n",
      "FOLD1 f1score: 0.6344590368980613\n",
      "Current Fold: 2\n",
      "Epoch [1/5], Loss: 0.7182, Accuracy: 52.82%\n",
      "Epoch [2/5], Loss: 0.6671, Accuracy: 62.68%\n",
      "Epoch [3/5], Loss: 0.6524, Accuracy: 64.08%\n",
      "Epoch [4/5], Loss: 0.6049, Accuracy: 61.97%\n",
      "Epoch [5/5], Loss: 0.5397, Accuracy: 73.94%\n",
      "FOLD2 f1score: 0.643170731707317\n",
      "Current Fold: 3\n",
      "Epoch [1/5], Loss: 0.7159, Accuracy: 58.45%\n",
      "Epoch [2/5], Loss: 0.6364, Accuracy: 66.90%\n",
      "Epoch [3/5], Loss: 0.6309, Accuracy: 66.90%\n",
      "Epoch [4/5], Loss: 0.5920, Accuracy: 68.31%\n",
      "Epoch [5/5], Loss: 0.5399, Accuracy: 74.65%\n",
      "FOLD3 f1score: 0.6585365853658537\n",
      "Current Fold: 4\n",
      "Epoch [1/5], Loss: 0.7971, Accuracy: 52.11%\n",
      "Epoch [2/5], Loss: 0.6681, Accuracy: 64.08%\n",
      "Epoch [3/5], Loss: 0.6331, Accuracy: 65.49%\n",
      "Epoch [4/5], Loss: 0.6034, Accuracy: 66.20%\n",
      "Epoch [5/5], Loss: 0.5585, Accuracy: 70.42%\n",
      "FOLD4 f1score: 0.62480539699014\n",
      "Current Fold: 5\n",
      "Epoch [1/5], Loss: 0.7129, Accuracy: 55.24%\n",
      "Epoch [2/5], Loss: 0.6685, Accuracy: 59.44%\n",
      "Epoch [3/5], Loss: 0.5987, Accuracy: 65.03%\n",
      "Epoch [4/5], Loss: 0.5907, Accuracy: 67.83%\n",
      "Epoch [5/5], Loss: 0.5396, Accuracy: 72.03%\n",
      "FOLD5 f1score: 0.6497489239598279\n",
      "Current Fold: 6\n",
      "Epoch [1/5], Loss: 0.7545, Accuracy: 50.35%\n",
      "Epoch [2/5], Loss: 0.6763, Accuracy: 60.84%\n",
      "Epoch [3/5], Loss: 0.6521, Accuracy: 62.24%\n",
      "Epoch [4/5], Loss: 0.6553, Accuracy: 59.44%\n",
      "Epoch [5/5], Loss: 0.6143, Accuracy: 65.03%\n",
      "FOLD6 f1score: 0.5345487394267882\n",
      "Average f1 score: 63.56\n"
     ]
    }
   ],
   "source": [
    "f1_scores = []\n",
    "n_splits = 7\n",
    "kf = KFold(n_splits=n_splits, shuffle=False)\n",
    "\n",
    "for fold, (train_id,test_id) in enumerate(kf.split(train_dataset)):\n",
    "    print(f'Current Fold: {fold}')\n",
    "\n",
    "    fold_subset = torch.utils.data.Subset(train_dataset, train_id)\n",
    "    fold_loader = DataLoader(fold_subset, batch_size=16, shuffle=True, num_workers=4 )\n",
    "\n",
    "    device = torch.device(\"cuda\" if torch.cuda.is_available() else \"cpu\")\n",
    "    model = SocialSignalModel().to(device)\n",
    "    criterion = nn.CrossEntropyLoss()\n",
    "    optimizer = torch.optim.Adam(model.parameters(), lr=0.001) \n",
    "    model = training(fold_loader, num_epochs=num_epochs, model=model, device=device, criterion=criterion, optimizer=optimizer)\n",
    "    model.eval()\n",
    "    \n",
    "    predictions = []\n",
    "    labels = []\n",
    "    with torch.no_grad():  # No gradients needed for inference\n",
    "        for x,y in val_loader:\n",
    "            x = x.to(device) # Sequences\n",
    "            y = y.to(device) # Labels\n",
    "            y_predicted = model(x)\n",
    "            _, predicted = torch.max(y_predicted, 1)\n",
    "            labels.extend(y.cpu().numpy())\n",
    "            predictions.extend(predicted.cpu().numpy())\n",
    "                \n",
    "    predictions = np.array(predictions)\n",
    "    labels = np.array(labels)\n",
    "    f1 = f1_score(labels,predictions, average='weighted')\n",
    "    print(f'FOLD{fold} f1score: {f1}')\n",
    "    f1_scores.append(f1)\n",
    "\n",
    "f1_mean = np.mean(f1_scores)\n",
    "print(f'Average f1 score: {f1_mean:.2f}')"
   ]
  }
 ],
 "metadata": {
  "kernelspec": {
   "display_name": "Python 3",
   "language": "python",
   "name": "python3"
  },
  "language_info": {
   "codemirror_mode": {
    "name": "ipython",
    "version": 3
   },
   "file_extension": ".py",
   "mimetype": "text/x-python",
   "name": "python",
   "nbconvert_exporter": "python",
   "pygments_lexer": "ipython3",
   "version": "3.11.11"
  }
 },
 "nbformat": 4,
 "nbformat_minor": 2
}
