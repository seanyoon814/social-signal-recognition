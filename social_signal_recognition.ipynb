{
 "cells": [
  {
   "cell_type": "markdown",
   "metadata": {},
   "source": [
    "## Setup\n",
    "\n",
    "___\n",
    "\n",
    "#### Install dependencies"
   ]
  },
  {
   "cell_type": "code",
   "execution_count": 1,
   "metadata": {},
   "outputs": [
    {
     "name": "stdout",
     "output_type": "stream",
     "text": [
      "Requirement already satisfied: numpy in c:\\users\\fonsy\\anaconda3\\lib\\site-packages (1.26.4)\n",
      "Requirement already satisfied: pandas in c:\\users\\fonsy\\anaconda3\\lib\\site-packages (2.2.2)\n",
      "Requirement already satisfied: matplotlib in c:\\users\\fonsy\\anaconda3\\lib\\site-packages (3.9.2)\n",
      "Collecting torch\n",
      "  Downloading torch-2.6.0-cp312-cp312-win_amd64.whl.metadata (28 kB)\n",
      "Collecting torchvision\n",
      "  Downloading torchvision-0.21.0-cp312-cp312-win_amd64.whl.metadata (6.3 kB)\n",
      "Requirement already satisfied: scikit-learn in c:\\users\\fonsy\\anaconda3\\lib\\site-packages (1.5.1)\n",
      "Requirement already satisfied: seaborn in c:\\users\\fonsy\\anaconda3\\lib\\site-packages (0.13.2)\n",
      "Requirement already satisfied: python-dateutil>=2.8.2 in c:\\users\\fonsy\\anaconda3\\lib\\site-packages (from pandas) (2.9.0.post0)\n",
      "Requirement already satisfied: pytz>=2020.1 in c:\\users\\fonsy\\anaconda3\\lib\\site-packages (from pandas) (2024.1)\n",
      "Requirement already satisfied: tzdata>=2022.7 in c:\\users\\fonsy\\anaconda3\\lib\\site-packages (from pandas) (2023.3)\n",
      "Requirement already satisfied: contourpy>=1.0.1 in c:\\users\\fonsy\\anaconda3\\lib\\site-packages (from matplotlib) (1.2.0)\n",
      "Requirement already satisfied: cycler>=0.10 in c:\\users\\fonsy\\anaconda3\\lib\\site-packages (from matplotlib) (0.11.0)\n",
      "Requirement already satisfied: fonttools>=4.22.0 in c:\\users\\fonsy\\anaconda3\\lib\\site-packages (from matplotlib) (4.51.0)\n",
      "Requirement already satisfied: kiwisolver>=1.3.1 in c:\\users\\fonsy\\anaconda3\\lib\\site-packages (from matplotlib) (1.4.4)\n",
      "Requirement already satisfied: packaging>=20.0 in c:\\users\\fonsy\\anaconda3\\lib\\site-packages (from matplotlib) (24.1)\n",
      "Requirement already satisfied: pillow>=8 in c:\\users\\fonsy\\anaconda3\\lib\\site-packages (from matplotlib) (10.4.0)\n",
      "Requirement already satisfied: pyparsing>=2.3.1 in c:\\users\\fonsy\\anaconda3\\lib\\site-packages (from matplotlib) (3.1.2)\n",
      "Requirement already satisfied: filelock in c:\\users\\fonsy\\anaconda3\\lib\\site-packages (from torch) (3.13.1)\n",
      "Requirement already satisfied: typing-extensions>=4.10.0 in c:\\users\\fonsy\\anaconda3\\lib\\site-packages (from torch) (4.11.0)\n",
      "Requirement already satisfied: networkx in c:\\users\\fonsy\\anaconda3\\lib\\site-packages (from torch) (3.3)\n",
      "Requirement already satisfied: jinja2 in c:\\users\\fonsy\\anaconda3\\lib\\site-packages (from torch) (3.1.4)\n",
      "Requirement already satisfied: fsspec in c:\\users\\fonsy\\anaconda3\\lib\\site-packages (from torch) (2024.6.1)\n",
      "Requirement already satisfied: setuptools in c:\\users\\fonsy\\anaconda3\\lib\\site-packages (from torch) (75.1.0)\n",
      "Collecting sympy==1.13.1 (from torch)\n",
      "  Downloading sympy-1.13.1-py3-none-any.whl.metadata (12 kB)\n",
      "Requirement already satisfied: mpmath<1.4,>=1.1.0 in c:\\users\\fonsy\\anaconda3\\lib\\site-packages (from sympy==1.13.1->torch) (1.3.0)\n",
      "Requirement already satisfied: scipy>=1.6.0 in c:\\users\\fonsy\\anaconda3\\lib\\site-packages (from scikit-learn) (1.13.1)\n",
      "Requirement already satisfied: joblib>=1.2.0 in c:\\users\\fonsy\\anaconda3\\lib\\site-packages (from scikit-learn) (1.4.2)\n",
      "Requirement already satisfied: threadpoolctl>=3.1.0 in c:\\users\\fonsy\\anaconda3\\lib\\site-packages (from scikit-learn) (3.5.0)\n",
      "Requirement already satisfied: six>=1.5 in c:\\users\\fonsy\\anaconda3\\lib\\site-packages (from python-dateutil>=2.8.2->pandas) (1.16.0)\n",
      "Requirement already satisfied: MarkupSafe>=2.0 in c:\\users\\fonsy\\anaconda3\\lib\\site-packages (from jinja2->torch) (2.1.3)\n",
      "Downloading torch-2.6.0-cp312-cp312-win_amd64.whl (204.1 MB)\n",
      "   ---------------------------------------- 0.0/204.1 MB ? eta -:--:--\n",
      "    --------------------------------------- 5.0/204.1 MB 27.4 MB/s eta 0:00:08\n",
      "   --- ------------------------------------ 15.7/204.1 MB 41.2 MB/s eta 0:00:05\n",
      "   ---- ----------------------------------- 22.8/204.1 MB 39.0 MB/s eta 0:00:05\n",
      "   ----- ---------------------------------- 30.1/204.1 MB 37.5 MB/s eta 0:00:05\n",
      "   ------- -------------------------------- 37.0/204.1 MB 36.7 MB/s eta 0:00:05\n",
      "   -------- ------------------------------- 41.9/204.1 MB 35.6 MB/s eta 0:00:05\n",
      "   -------- ------------------------------- 42.7/204.1 MB 29.9 MB/s eta 0:00:06\n",
      "   ---------- ----------------------------- 53.2/204.1 MB 31.4 MB/s eta 0:00:05\n",
      "   ------------ --------------------------- 61.3/204.1 MB 32.3 MB/s eta 0:00:05\n",
      "   ------------ --------------------------- 62.1/204.1 MB 32.2 MB/s eta 0:00:05\n",
      "   ------------ --------------------------- 62.1/204.1 MB 32.2 MB/s eta 0:00:05\n",
      "   -------------- ------------------------- 72.9/204.1 MB 28.7 MB/s eta 0:00:05\n",
      "   ---------------- ----------------------- 83.1/204.1 MB 30.3 MB/s eta 0:00:04\n",
      "   ----------------- ---------------------- 90.4/204.1 MB 30.5 MB/s eta 0:00:04\n",
      "   ------------------- -------------------- 97.5/204.1 MB 30.7 MB/s eta 0:00:04\n",
      "   ------------------- ------------------- 102.5/204.1 MB 30.1 MB/s eta 0:00:04\n",
      "   -------------------- ------------------ 109.8/204.1 MB 30.4 MB/s eta 0:00:04\n",
      "   ---------------------- ---------------- 116.9/204.1 MB 30.5 MB/s eta 0:00:03\n",
      "   ------------------------ -------------- 126.1/204.1 MB 31.2 MB/s eta 0:00:03\n",
      "   ------------------------- ------------- 133.4/204.1 MB 31.3 MB/s eta 0:00:03\n",
      "   -------------------------- ------------ 140.2/204.1 MB 31.2 MB/s eta 0:00:03\n",
      "   ---------------------------- ---------- 147.8/204.1 MB 31.4 MB/s eta 0:00:02\n",
      "   ----------------------------- --------- 154.9/204.1 MB 31.5 MB/s eta 0:00:02\n",
      "   ------------------------------ -------- 161.2/204.1 MB 31.4 MB/s eta 0:00:02\n",
      "   -------------------------------- ------ 169.1/204.1 MB 31.6 MB/s eta 0:00:02\n",
      "   --------------------------------- ----- 176.4/204.1 MB 31.7 MB/s eta 0:00:01\n",
      "   ----------------------------------- --- 184.0/204.1 MB 31.7 MB/s eta 0:00:01\n",
      "   ------------------------------------ -- 191.4/204.1 MB 31.8 MB/s eta 0:00:01\n",
      "   --------------------------------------  199.0/204.1 MB 31.9 MB/s eta 0:00:01\n",
      "   --------------------------------------  199.5/204.1 MB 31.2 MB/s eta 0:00:01\n",
      "   --------------------------------------  203.9/204.1 MB 30.7 MB/s eta 0:00:01\n",
      "   --------------------------------------  203.9/204.1 MB 30.7 MB/s eta 0:00:01\n",
      "   --------------------------------------  203.9/204.1 MB 30.7 MB/s eta 0:00:01\n",
      "   --------------------------------------  203.9/204.1 MB 30.7 MB/s eta 0:00:01\n",
      "   --------------------------------------  203.9/204.1 MB 30.7 MB/s eta 0:00:01\n",
      "   --------------------------------------  203.9/204.1 MB 30.7 MB/s eta 0:00:01\n",
      "   --------------------------------------  203.9/204.1 MB 30.7 MB/s eta 0:00:01\n",
      "   --------------------------------------- 204.1/204.1 MB 25.5 MB/s eta 0:00:00\n",
      "Downloading sympy-1.13.1-py3-none-any.whl (6.2 MB)\n",
      "   ---------------------------------------- 0.0/6.2 MB ? eta -:--:--\n",
      "   ---------------------------------------- 6.2/6.2 MB 37.8 MB/s eta 0:00:00\n",
      "Downloading torchvision-0.21.0-cp312-cp312-win_amd64.whl (1.6 MB)\n",
      "   ---------------------------------------- 0.0/1.6 MB ? eta -:--:--\n",
      "   ---------------------------------------- 1.6/1.6 MB 28.2 MB/s eta 0:00:00\n",
      "Installing collected packages: sympy, torch, torchvision\n",
      "  Attempting uninstall: sympy\n",
      "    Found existing installation: sympy 1.13.2\n",
      "    Uninstalling sympy-1.13.2:\n",
      "      Successfully uninstalled sympy-1.13.2\n",
      "Successfully installed sympy-1.13.1 torch-2.6.0 torchvision-0.21.0\n",
      "Collecting opencv-python\n",
      "  Downloading opencv_python-4.11.0.86-cp37-abi3-win_amd64.whl.metadata (20 kB)\n",
      "Requirement already satisfied: numpy>=1.21.2 in c:\\users\\fonsy\\anaconda3\\lib\\site-packages (from opencv-python) (1.26.4)\n",
      "Downloading opencv_python-4.11.0.86-cp37-abi3-win_amd64.whl (39.5 MB)\n",
      "   ---------------------------------------- 0.0/39.5 MB ? eta -:--:--\n",
      "   ----- ---------------------------------- 5.8/39.5 MB 32.0 MB/s eta 0:00:02\n",
      "   --------------- ------------------------ 15.7/39.5 MB 38.1 MB/s eta 0:00:01\n",
      "   ---------------------- ----------------- 22.5/39.5 MB 36.6 MB/s eta 0:00:01\n",
      "   ---------------------------- ----------- 28.6/39.5 MB 34.8 MB/s eta 0:00:01\n",
      "   ------------------------------------- -- 37.5/39.5 MB 36.1 MB/s eta 0:00:01\n",
      "   ---------------------------------------  39.3/39.5 MB 35.2 MB/s eta 0:00:01\n",
      "   ---------------------------------------- 39.5/39.5 MB 29.5 MB/s eta 0:00:00\n",
      "Installing collected packages: opencv-python\n",
      "Successfully installed opencv-python-4.11.0.86\n"
     ]
    }
   ],
   "source": [
    "# %%bash\n",
    "!pip install numpy pandas matplotlib torch torchvision scikit-learn seaborn\n",
    "!pip install opencv-python"
   ]
  },
  {
   "cell_type": "markdown",
   "metadata": {},
   "source": [
    "#### Import dependencies"
   ]
  },
  {
   "cell_type": "code",
   "execution_count": 22,
   "metadata": {},
   "outputs": [],
   "source": [
    "import numpy as np\n",
    "import pandas as pd\n",
    "import seaborn as sns\n",
    "import matplotlib.pyplot as plt\n",
    "%matplotlib inline\n",
    "\n",
    "from PIL import Image\n",
    "\n",
    "import os\n",
    "import cv2\n",
    "\n",
    "import torch\n",
    "import torch.nn as nn\n",
    "import torch.optim as optim\n",
    "import torch.nn.functional as F\n",
    "from torch.utils.data import Dataset, DataLoader\n",
    "from torchvision import transforms\n",
    "\n",
    "from sklearn.metrics import accuracy_score, precision_score, recall_score, f1_score, confusion_matrix\n",
    "from sklearn.model_selection import KFold\n",
    "\n",
    "from image_dataloader import SocialSignalDataset\n"
   ]
  },
  {
   "cell_type": "markdown",
   "metadata": {},
   "source": [
    "#### Initialize constants"
   ]
  },
  {
   "cell_type": "code",
   "execution_count": 3,
   "metadata": {},
   "outputs": [],
   "source": [
    "# dataset\n",
    "dataset_path = 'data/train'\n",
    "\n",
    "image_length = 112\n",
    "image_size = (image_length, image_length)\n",
    "\n",
    "label_mapping = {\n",
    "    0: \"surprise\",\n",
    "    1: \"fear\"\n",
    "}\n",
    "\n",
    "# loaders\n",
    "batch_size = 16\n",
    "\n",
    "# model training\n",
    "num_epochs =  5\n"
   ]
  },
  {
   "cell_type": "markdown",
   "metadata": {},
   "source": [
    "## Dataset\n",
    "\n",
    "---\n",
    "\n",
    "#### Load and transform the dataset"
   ]
  },
  {
   "cell_type": "code",
   "execution_count": 5,
   "metadata": {},
   "outputs": [],
   "source": [
    "img_transform = transforms.Compose([\n",
    "    transforms.Grayscale(3), # RGB\n",
    "    transforms.Resize(image_size),\n",
    "    transforms.ToTensor(),\n",
    "    transforms.Normalize(mean=[0.5, 0.5, 0.5], std=[0.5, 0.5, 0.5])\n",
    "])\n",
    "\n",
    "dataset = SocialSignalDataset(root_dir=dataset_path, transform=img_transform)"
   ]
  },
  {
   "cell_type": "markdown",
   "metadata": {},
   "source": [
    "#### Split data set into training and validation"
   ]
  },
  {
   "cell_type": "code",
   "execution_count": 6,
   "metadata": {},
   "outputs": [
    {
     "name": "stdout",
     "output_type": "stream",
     "text": [
      "Input shape: torch.Size([16, 3, 112, 112])\n",
      "Labels shape: torch.Size([16])\n"
     ]
    }
   ],
   "source": [
    "train_dataset, val_dataset = torch.utils.data.random_split(dataset, [0.8, 0.2])\n",
    "\n",
    "train_loader = DataLoader(train_dataset, batch_size=batch_size, shuffle=True) \n",
    "val_loader = DataLoader(val_dataset, batch_size=batch_size, shuffle=True) \n",
    "\n",
    "# Check input size for forward feed network\n",
    "for inputs, labels in train_loader:\n",
    "    print(\"Input shape:\", inputs.shape)\n",
    "    print(\"Labels shape:\", labels.shape)\n",
    "    break  # We only want to check the first batch"
   ]
  },
  {
   "cell_type": "markdown",
   "metadata": {},
   "source": [
    "## Model Setup\n",
    "___\n",
    "\n",
    "#### CNN"
   ]
  },
  {
   "cell_type": "code",
   "execution_count": 8,
   "metadata": {},
   "outputs": [],
   "source": [
    "class SocialSignalModel(nn.Module):\n",
    "    def __init__(self, num_classes=2):\n",
    "        super(SocialSignalModel, self).__init__()\n",
    "        \"\"\"\"\n",
    "        input_channel: 3 or 4 // test which one gets better inputs\n",
    "            - 3: for RGB\n",
    "            - 4: +1 for Depth from camera\n",
    "        num_classes: 2 \n",
    "            0 for surprise, 1 for fear\n",
    "        \"\"\"\n",
    "        \n",
    "        self.cnn = nn.Sequential(\n",
    "            nn.Conv2d(3, 32, kernel_size=3, stride=1, padding=1), \n",
    "            nn.ReLU(),\n",
    "            nn.MaxPool2d(kernel_size=2, stride=2),\n",
    "\n",
    "            nn.Conv2d(32, 64, kernel_size=3, stride=1, padding=1),\n",
    "            nn.ReLU(),\n",
    "            nn.MaxPool2d(kernel_size=2, stride=2),\n",
    "\n",
    "            nn.Conv2d(64, 128, kernel_size=3, stride=1, padding=1),\n",
    "            nn.ReLU(),\n",
    "            nn.MaxPool2d(kernel_size=2, stride=2),\n",
    "        ) \n",
    "        \n",
    "        # Input size 128 * 14 * 14\n",
    "        self.in_features = 128 * 14 * 14 #Flattened size after 3 Conv2d Layers and Pooling\n",
    "        self.fc = nn.Linear(self.in_features, num_classes) # in_features = batch_size\n",
    "\n",
    "    def forward(self, x):\n",
    "        # TODO: IMPLEMENT\n",
    "        # CNN --> Conv2d(N,Cin,H,W) --> (N, C_out, H_out,W_out)\n",
    "        x = self.cnn(x)\n",
    "\n",
    "        # Flatten \n",
    "        x = x.view(-1,self.in_features)\n",
    "\n",
    "        # Fully Connected Layer\n",
    "        x = self.fc(x)\n",
    "        \n",
    "        return x"
   ]
  },
  {
   "cell_type": "markdown",
   "metadata": {},
   "source": [
    "#### Training"
   ]
  },
  {
   "cell_type": "code",
   "execution_count": null,
   "metadata": {},
   "outputs": [],
   "source": [
    "# Training function to use for model training and 7-fold cross validation \n",
    "def training(train_loader, num_epochs, model, device, criterion, optimizer):\n",
    "    # From Assignment 3 Training\n",
    "    for epoch in range(num_epochs):\n",
    "        model.train()  # Set model to training mode\n",
    "        running_loss = 0.0\n",
    "        correct = 0\n",
    "        total = 0\n",
    "\n",
    "        # Loop over each batch\n",
    "        for i, (sequences, labels) in enumerate(train_loader):\n",
    "            sequences, labels = sequences.to(device), labels.to(device)\n",
    "\n",
    "            # Zero the gradients\n",
    "            optimizer.zero_grad()\n",
    "\n",
    "            # Forward pass\n",
    "            outputs = model(sequences)\n",
    "\n",
    "            # Compute loss\n",
    "            loss = criterion(outputs, labels)\n",
    "\n",
    "            # Backward pass\n",
    "            loss.backward()\n",
    "\n",
    "            # Optimize the model\n",
    "            optimizer.step()\n",
    "\n",
    "            # Calculate accuracy\n",
    "            _, predicted = torch.max(outputs, 1)\n",
    "            total += labels.size(0)\n",
    "            correct += (predicted == labels).sum().item()\n",
    "\n",
    "            running_loss += loss.item()\n",
    "\n",
    "        # Print statistics for the epoch\n",
    "        epoch_loss = running_loss / len(train_loader)\n",
    "        epoch_accuracy = 100 * correct / total\n",
    "        print(f\"Epoch [{epoch+1}/{num_epochs}], Loss: {epoch_loss:.4f}, Accuracy: {epoch_accuracy:.2f}%\")\n",
    "    return model\n",
    "        # if epoch%5 == 0: # change the saving frequency as you want\n",
    "        #     model_path = os.path.join('./model_configs', f'image_lstm_model_{epoch}.pth')\n",
    "        #     torch.save(model.state_dict(), model_path)"
   ]
  },
  {
   "cell_type": "code",
   "execution_count": null,
   "metadata": {},
   "outputs": [
    {
     "name": "stdout",
     "output_type": "stream",
     "text": [
      "Epoch [1/5], Loss: 0.6963, Accuracy: 51.81%\n",
      "Epoch [2/5], Loss: 0.6277, Accuracy: 66.27%\n",
      "Epoch [3/5], Loss: 0.5662, Accuracy: 71.08%\n",
      "Epoch [4/5], Loss: 0.5026, Accuracy: 74.10%\n",
      "Epoch [5/5], Loss: 0.4704, Accuracy: 74.70%\n"
     ]
    }
   ],
   "source": [
    "# Set device (GPU if available)\n",
    "device = torch.device(\"cuda\" if torch.cuda.is_available() else \"cpu\")\n",
    "\n",
    "# Define the model\n",
    "model = SocialSignalModel().to(device)\n",
    "\n",
    "# Loss function and optimizer\n",
    "criterion = nn.CrossEntropyLoss()  # For multi-class classification\n",
    "optimizer = optim.Adam(model.parameters(), lr=0.001) \n",
    "\n",
    "model = training(train_loader, num_epochs, model, device, criterion, optimizer)"
   ]
  },
  {
   "cell_type": "markdown",
   "metadata": {},
   "source": [
    "#### Get outputs for train and validation datasets"
   ]
  },
  {
   "cell_type": "code",
   "execution_count": 46,
   "metadata": {},
   "outputs": [],
   "source": [
    "model.eval()\n",
    "\n",
    "val_predictions = []\n",
    "val_labels = []\n",
    "\n",
    "with torch.no_grad():  # No gradients needed for inference\n",
    "    for inputs, labels in val_loader:\n",
    "        inputs, labels = inputs.to(device), labels.to(device)\n",
    "        \n",
    "        outputs = model(inputs)\n",
    "        _, predictions = torch.max(outputs, 1)\n",
    "\n",
    "        val_predictions.extend(predictions.cpu().numpy())\n",
    "        val_labels.extend(labels.cpu().numpy())\n",
    "\n",
    "train_predictions = []\n",
    "train_labels = []\n",
    "\n",
    "with torch.no_grad():  # No gradients needed for inference\n",
    "    for inputs, labels in train_loader:\n",
    "        inputs, labels = inputs.to(device), labels.to(device)\n",
    "        \n",
    "        outputs = model(inputs)\n",
    "        _, predictions = torch.max(outputs, 1)\n",
    "\n",
    "        train_predictions.extend(predictions.cpu().numpy())\n",
    "        train_labels.extend(labels.cpu().numpy())"
   ]
  },
  {
   "cell_type": "markdown",
   "metadata": {},
   "source": [
    "#### Model summary"
   ]
  },
  {
   "cell_type": "code",
   "execution_count": 55,
   "metadata": {},
   "outputs": [
    {
     "name": "stdout",
     "output_type": "stream",
     "text": [
      "Precision: 0.6877\n",
      "Recall: 0.6829\n",
      "Train Accuracy: 86.75%\n",
      "Test Accuracy: 68.29%\n",
      "F1 Score: 0.6849\n"
     ]
    }
   ],
   "source": [
    "train_accuracy = accuracy_score(train_labels, train_predictions)\n",
    "val_accuracy = accuracy_score(val_labels, val_predictions)\n",
    "\n",
    "precision = precision_score(val_labels, val_predictions, average='weighted')\n",
    "recall = recall_score(val_labels, val_predictions, average='weighted')\n",
    "f1 = f1_score(val_labels, val_predictions, average='weighted')\n",
    "\n",
    "print(f\"Precision: {precision:.4f}\")\n",
    "print(f\"Recall: {recall:.4f}\")\n",
    "print(f\"Train Accuracy: {train_accuracy * 100:.2f}%\")\n",
    "print(f\"Test Accuracy: {val_accuracy * 100:.2f}%\")\n",
    "print(f\"F1 Score: {f1:.4f}\")"
   ]
  },
  {
   "cell_type": "markdown",
   "metadata": {},
   "source": [
    "#### Confusion matrix on validation dataset"
   ]
  },
  {
   "cell_type": "code",
   "execution_count": 47,
   "metadata": {},
   "outputs": [
    {
     "name": "stdout",
     "output_type": "stream",
     "text": [
      "[[19  7]\n",
      " [ 6  9]]\n"
     ]
    },
    {
     "data": {
      "image/png": "[encoded data removed]",
      "text/plain": [
       "<Figure size 1000x800 with 2 Axes>"
      ]
     },
     "metadata": {},
     "output_type": "display_data"
    }
   ],
   "source": [
    "# ref: https://www.w3schools.com/python/python_ml_confusion_matrix.asp\n",
    "\n",
    "cm = confusion_matrix(val_labels, val_predictions)\n",
    "\n",
    "print(cm)\n",
    "\n",
    "ticks = [\"Surprise\", \"Fear\"]\n",
    "\n",
    "plt.figure(figsize=(10, 8))\n",
    "sns.heatmap(cm, annot=True, fmt='d', cmap='Blues', xticklabels=ticks, yticklabels=ticks)\n",
    "plt.xlabel('Predicted')\n",
    "plt.ylabel('Actual')\n",
    "plt.title('Confusion Matrix')\n",
    "plt.show()"
   ]
  },
  {
   "cell_type": "markdown",
   "metadata": {},
   "source": [
    "## Evaluation\n",
    "\n",
    "___\n",
    "\n",
    "#### ROC-AUC"
   ]
  },
  {
   "cell_type": "code",
   "execution_count": 74,
   "metadata": {},
   "outputs": [
    {
     "name": "stdout",
     "output_type": "stream",
     "text": [
      "FPR: [0.         0.26923077 1.        ], Len: 3\n",
      "TPR: [0.  0.6 1. ], Len: 3\n",
      "AUC: 0.6653846153846155\n"
     ]
    },
    {
     "data": {
      "image/png": "[encoded data removed]",
      "text/plain": [
       "<Figure size 640x480 with 1 Axes>"
      ]
     },
     "metadata": {},
     "output_type": "display_data"
    }
   ],
   "source": [
    "from sklearn.metrics import roc_curve, roc_auc_score\n",
    "from sklearn.metrics import RocCurveDisplay\n",
    "\n",
    "fpr, tpr, thresholds = roc_curve(val_labels, val_predictions)\n",
    "auc_score = roc_auc_score(val_labels, val_predictions)\n",
    "print(f'FPR: {fpr}, Len: {len(fpr)}')\n",
    "print(f'TPR: {tpr}, Len: {len(tpr)}')\n",
    "print(f'AUC: {auc_score}')\n",
    "roc_display2 = RocCurveDisplay.from_predictions(val_labels, val_predictions)\n",
    "plt.grid(True)\n",
    "plt.show()\n",
    "\n"
   ]
  },
  {
   "cell_type": "markdown",
   "metadata": {},
   "source": [
    "#### 7-Fold Cross Validation"
   ]
  },
  {
   "cell_type": "code",
   "execution_count": null,
   "metadata": {},
   "outputs": [
    {
     "name": "stdout",
     "output_type": "stream",
     "text": [
      "Current Fold: 0\n",
      "Epoch [1/1], Loss: 0.7398, Accuracy: 51.41%\n",
      "FOLD0 f1score: 0.41977137038922574\n",
      "Current Fold: 1\n",
      "Epoch [1/1], Loss: 0.7265, Accuracy: 50.00%\n",
      "FOLD1 f1score: 0.5736388272973638\n",
      "Current Fold: 2\n",
      "Epoch [1/1], Loss: 0.8498, Accuracy: 39.44%\n",
      "FOLD2 f1score: 0.6153576846773252\n",
      "Current Fold: 3\n",
      "Epoch [1/1], Loss: 0.8563, Accuracy: 47.89%\n",
      "FOLD3 f1score: 0.195993031358885\n",
      "Current Fold: 4\n",
      "Epoch [1/1], Loss: 0.7219, Accuracy: 50.00%\n",
      "FOLD4 f1score: 0.6371951219512195\n",
      "Current Fold: 5\n",
      "Epoch [1/1], Loss: 0.7425, Accuracy: 52.45%\n",
      "FOLD5 f1score: 0.6380732143636285\n",
      "Current Fold: 6\n",
      "Epoch [1/1], Loss: 0.6933, Accuracy: 61.54%\n",
      "FOLD6 f1score: 0.5659146341463415\n",
      "Average f1 score: 52.08\n"
     ]
    }
   ],
   "source": [
    "f1_scores = []\n",
    "n_splits = 7\n",
    "kf = KFold(n_splits=n_splits, shuffle=False)\n",
    "for fold, (train_id,test_id) in enumerate(kf.split(train_dataset)):\n",
    "    print(f'Current Fold: {fold}')\n",
    "\n",
    "    fold_subset = torch.utils.data.Subset(train_dataset, train_id)\n",
    "    fold_loader = DataLoader(fold_subset, batch_size=16, shuffle=True, num_workers=4 )\n",
    "\n",
    "    device = torch.device(\"cuda\" if torch.cuda.is_available() else \"cpu\")\n",
    "    model = SocialSignalModel().to(device)\n",
    "    criterion = nn.CrossEntropyLoss()\n",
    "    optimizer = torch.optim.Adam(model.parameters(), lr=0.001) \n",
    "    model = training(fold_loader, num_epochs=num_epochs, model=model, device=device, criterion=criterion, optimizer=optimizer)\n",
    "    model.eval()\n",
    "    \n",
    "    predictions = []\n",
    "    labels = []\n",
    "    with torch.no_grad():  # No gradients needed for inference\n",
    "        for x,y in val_loader:\n",
    "            x = x.to(device) # Sequences\n",
    "            y = y.to(device) # Labels\n",
    "            y_predicted = model(x)\n",
    "            _, predicted = torch.max(y_predicted, 1)\n",
    "            labels.extend(y.cpu().numpy())\n",
    "            predictions.extend(predicted.cpu().numpy())\n",
    "                \n",
    "    predictions = np.array(predictions)\n",
    "    labels = np.array(labels)\n",
    "    f1 = f1_score(labels,predictions, average='weighted')\n",
    "    print(f'FOLD{fold} f1score: {f1}')\n",
    "    f1_scores.append(f1)\n",
    "f1_mean = np.mean(f1_scores)*100 \n",
    "print(f'Average f1 score: {f1_mean:.2f}')"
   ]
  }
 ],
 "metadata": {
  "kernelspec": {
   "display_name": "base",
   "language": "python",
   "name": "python3"
  },
  "language_info": {
   "codemirror_mode": {
    "name": "ipython",
    "version": 3
   },
   "file_extension": ".py",
   "mimetype": "text/x-python",
   "name": "python",
   "nbconvert_exporter": "python",
   "pygments_lexer": "ipython3",
   "version": "3.12.7"
  }
 },
 "nbformat": 4,
 "nbformat_minor": 2
}
