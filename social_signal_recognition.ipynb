{
 "cells": [
  {
   "cell_type": "markdown",
   "metadata": {},
   "source": [
    "## Setup\n",
    "\n",
    "___\n",
    "\n",
    "#### Install dependencies"
   ]
  },
  {
   "cell_type": "markdown",
   "metadata": {},
   "source": [
    "# %%bash\n",
    "\n",
    "!pip install numpy pandas matplotlib torch torchvision scikit-learn seaborn\n",
    "\n",
    "!pip install opencv-python"
   ]
  },
  {
   "cell_type": "markdown",
   "metadata": {},
   "source": [
    "#### Import dependencies"
   ]
  },
  {
   "cell_type": "code",
   "execution_count": 1,
   "metadata": {},
   "outputs": [],
   "source": [
    "import numpy as np\n",
    "import pandas as pd\n",
    "import seaborn as sns\n",
    "import matplotlib.pyplot as plt\n",
    "%matplotlib inline\n",
    "\n",
    "from PIL import Image\n",
    "\n",
    "import os\n",
    "import cv2\n",
    "\n",
    "import torch\n",
    "import torch.nn as nn\n",
    "import torch.optim as optim\n",
    "import torch.nn.functional as F\n",
    "from torch.utils.data import Dataset, DataLoader\n",
    "from torchvision import transforms\n",
    "\n",
    "from sklearn.metrics import accuracy_score, precision_score, recall_score, f1_score, confusion_matrix\n",
    "from sklearn.model_selection import KFold\n",
    "\n",
    "from image_dataloader import SocialSignalDataset\n"
   ]
  },
  {
   "cell_type": "markdown",
   "metadata": {},
   "source": [
    "#### Initialize constants"
   ]
  },
  {
   "cell_type": "code",
   "execution_count": null,
   "metadata": {},
   "outputs": [],
   "source": [
    "# dataset\n",
    "dataset_path = 'data/train'\n",
    "\n",
    "image_length = 112\n",
    "image_size = (image_length, image_length)\n",
    "\n",
    "label_mapping = {\n",
    "    0: \"surprise\",\n",
    "    1: \"fear\"\n",
    "}\n",
    "\n",
    "# loaders\n",
    "batch_size = 16\n",
    "\n",
    "# model training\n",
    "num_epochs =  20\n"
   ]
  },
  {
   "cell_type": "markdown",
   "metadata": {},
   "source": [
    "## Dataset\n",
    "\n",
    "---\n",
    "\n",
    "#### Load and transform the dataset"
   ]
  },
  {
   "cell_type": "code",
   "execution_count": 9,
   "metadata": {},
   "outputs": [],
   "source": [
    "img_transform = transforms.Compose([\n",
    "    transforms.Grayscale(3), # RGB\n",
    "    transforms.Resize(image_size),\n",
    "    transforms.ToTensor(),\n",
    "    transforms.Normalize(mean=[0.5, 0.5, 0.5], std=[0.5, 0.5, 0.5])\n",
    "])\n",
    "\n",
    "dataset = SocialSignalDataset(root_dir=dataset_path, transform=img_transform)"
   ]
  },
  {
   "cell_type": "markdown",
   "metadata": {},
   "source": [
    "#### Split data set into training and validation"
   ]
  },
  {
   "cell_type": "code",
   "execution_count": 10,
   "metadata": {},
   "outputs": [
    {
     "name": "stdout",
     "output_type": "stream",
     "text": [
      "Input shape: torch.Size([16, 3, 112, 112])\n",
      "Labels shape: torch.Size([16])\n"
     ]
    }
   ],
   "source": [
    "train_dataset, val_dataset = torch.utils.data.random_split(dataset, [0.8, 0.2])\n",
    "\n",
    "train_loader = DataLoader(train_dataset, batch_size=batch_size, shuffle=True) \n",
    "val_loader = DataLoader(val_dataset, batch_size=batch_size, shuffle=True) \n",
    "\n",
    "# Check input size for forward feed network\n",
    "for inputs, labels in train_loader:\n",
    "    print(\"Input shape:\", inputs.shape)\n",
    "    print(\"Labels shape:\", labels.shape)\n",
    "    break  # We only want to check the first batch"
   ]
  },
  {
   "cell_type": "markdown",
   "metadata": {},
   "source": [
    "## Model Setup\n",
    "___\n",
    "\n",
    "#### CNN"
   ]
  },
  {
   "cell_type": "code",
   "execution_count": 11,
   "metadata": {},
   "outputs": [],
   "source": [
    "class SocialSignalModel(nn.Module):\n",
    "    def __init__(self, num_classes=2):\n",
    "        super(SocialSignalModel, self).__init__()\n",
    "        \"\"\"\"\n",
    "        input_channel: 3 or 4 // test which one gets better inputs\n",
    "            - 3: for RGB\n",
    "            - 4: +1 for Depth from camera\n",
    "        num_classes: 2 \n",
    "            0 for surprise, 1 for fear\n",
    "        \"\"\"\n",
    "        \n",
    "        self.cnn = nn.Sequential(\n",
    "            nn.Conv2d(3, 32, kernel_size=3, stride=1, padding=1), \n",
    "            nn.ReLU(),\n",
    "            nn.MaxPool2d(kernel_size=2, stride=2),\n",
    "\n",
    "            nn.Conv2d(32, 64, kernel_size=3, stride=1, padding=1),\n",
    "            nn.ReLU(),\n",
    "            nn.MaxPool2d(kernel_size=2, stride=2),\n",
    "\n",
    "            nn.Conv2d(64, 128, kernel_size=3, stride=1, padding=1),\n",
    "            nn.ReLU(),\n",
    "            nn.MaxPool2d(kernel_size=2, stride=2),\n",
    "        ) \n",
    "        \n",
    "        # Input size 128 * 14 * 14\n",
    "        self.in_features = 128 * 14 * 14 #Flattened size after 3 Conv2d Layers and Pooling\n",
    "        self.fc = nn.Linear(self.in_features, num_classes) # in_features = batch_size\n",
    "\n",
    "    def forward(self, x):\n",
    "        # TODO: IMPLEMENT\n",
    "        # CNN --> Conv2d(N,Cin,H,W) --> (N, C_out, H_out,W_out)\n",
    "        x = self.cnn(x)\n",
    "\n",
    "        # Flatten \n",
    "        x = x.view(-1,self.in_features)\n",
    "\n",
    "        # Fully Connected Layer\n",
    "        x = self.fc(x)\n",
    "        \n",
    "        return x"
   ]
  },
  {
   "cell_type": "markdown",
   "metadata": {},
   "source": [
    "#### Training"
   ]
  },
  {
   "cell_type": "code",
   "execution_count": 12,
   "metadata": {},
   "outputs": [],
   "source": [
    "# Training function to use for model training and 7-fold cross validation \n",
    "def training(train_loader, num_epochs, model, device, criterion, optimizer):\n",
    "    # From Assignment 3 Training\n",
    "    for epoch in range(num_epochs):\n",
    "        model.train()  # Set model to training mode\n",
    "        running_loss = 0.0\n",
    "        correct = 0\n",
    "        total = 0\n",
    "\n",
    "        # Loop over each batch\n",
    "        for i, (sequences, labels) in enumerate(train_loader):\n",
    "            sequences, labels = sequences.to(device), labels.to(device)\n",
    "\n",
    "            # Zero the gradients\n",
    "            optimizer.zero_grad()\n",
    "\n",
    "            # Forward pass\n",
    "            outputs = model(sequences)\n",
    "\n",
    "            # Compute loss\n",
    "            loss = criterion(outputs, labels)\n",
    "\n",
    "            # Backward pass\n",
    "            loss.backward()\n",
    "\n",
    "            # Optimize the model\n",
    "            optimizer.step()\n",
    "\n",
    "            # Calculate accuracy\n",
    "            _, predicted = torch.max(outputs, 1)\n",
    "            total += labels.size(0)\n",
    "            correct += (predicted == labels).sum().item()\n",
    "\n",
    "            running_loss += loss.item()\n",
    "\n",
    "        # Print statistics for the epoch\n",
    "        epoch_loss = running_loss / len(train_loader)\n",
    "        epoch_accuracy = 100 * correct / total\n",
    "        print(f\"Epoch [{epoch+1}/{num_epochs}], Loss: {epoch_loss:.4f}, Accuracy: {epoch_accuracy:.2f}%\")\n",
    "    return model\n",
    "        # if epoch%5 == 0: # change the saving frequency as you want\n",
    "        #     model_path = os.path.join('./model_configs', f'image_lstm_model_{epoch}.pth')\n",
    "        #     torch.save(model.state_dict(), model_path)"
   ]
  },
  {
   "cell_type": "code",
   "execution_count": null,
   "metadata": {},
   "outputs": [
    {
     "name": "stdout",
     "output_type": "stream",
     "text": [
      "Epoch [1/20], Loss: 0.6740, Accuracy: 56.02%\n",
      "Epoch [2/20], Loss: 0.6565, Accuracy: 61.45%\n",
      "Epoch [3/20], Loss: 0.5805, Accuracy: 73.49%\n",
      "Epoch [4/20], Loss: 0.5036, Accuracy: 74.10%\n",
      "Epoch [5/20], Loss: 0.4604, Accuracy: 75.30%\n",
      "Epoch [6/20], Loss: 0.3903, Accuracy: 83.13%\n",
      "Epoch [7/20], Loss: 0.3247, Accuracy: 89.76%\n",
      "Epoch [8/20], Loss: 0.1738, Accuracy: 94.58%\n",
      "Epoch [9/20], Loss: 0.1344, Accuracy: 96.39%\n",
      "Epoch [10/20], Loss: 0.0868, Accuracy: 97.59%\n",
      "Epoch [11/20], Loss: 0.1237, Accuracy: 94.58%\n",
      "Epoch [12/20], Loss: 0.0690, Accuracy: 98.80%\n",
      "Epoch [13/20], Loss: 0.0403, Accuracy: 99.40%\n",
      "Epoch [14/20], Loss: 0.0212, Accuracy: 99.40%\n",
      "Epoch [15/20], Loss: 0.0127, Accuracy: 99.40%\n",
      "Epoch [16/20], Loss: 0.0219, Accuracy: 99.40%\n",
      "Epoch [17/20], Loss: 0.0244, Accuracy: 98.80%\n",
      "Epoch [18/20], Loss: 0.0100, Accuracy: 100.00%\n",
      "Epoch [19/20], Loss: 0.0034, Accuracy: 100.00%\n",
      "Epoch [20/20], Loss: 0.0017, Accuracy: 100.00%\n"
     ]
    }
   ],
   "source": [
    "# Set device (GPU if available)\n",
    "device = torch.device(\"cuda\" if torch.cuda.is_available() else \"cpu\")\n",
    "\n",
    "# Define the model\n",
    "model = SocialSignalModel().to(device)\n",
    "\n",
    "# Loss function and optimizer\n",
    "criterion = nn.CrossEntropyLoss()  # For multi-class classification\n",
    "optimizer = optim.Adam(model.parameters(), lr=0.001) \n",
    "\n",
    "model = training(train_loader, num_epochs, model, device, criterion, optimizer)"
   ]
  },
  {
   "cell_type": "markdown",
   "metadata": {},
   "source": [
    "#### Get outputs for train and validation datasets"
   ]
  },
  {
   "cell_type": "code",
   "execution_count": 17,
   "metadata": {},
   "outputs": [],
   "source": [
    "model.eval()\n",
    "\n",
    "val_predictions = []\n",
    "val_labels = []\n",
    "\n",
    "with torch.no_grad():  # No gradients needed for inference\n",
    "    for inputs, labels in val_loader:\n",
    "        inputs, labels = inputs.to(device), labels.to(device)\n",
    "        \n",
    "        outputs = model(inputs)\n",
    "        _, predictions = torch.max(outputs, 1)\n",
    "\n",
    "        val_predictions.extend(predictions.cpu().numpy())\n",
    "        val_labels.extend(labels.cpu().numpy())\n",
    "\n",
    "train_predictions = []\n",
    "train_labels = []\n",
    "\n",
    "with torch.no_grad():  # No gradients needed for inference\n",
    "    for inputs, labels in train_loader:\n",
    "        inputs, labels = inputs.to(device), labels.to(device)\n",
    "        \n",
    "        outputs = model(inputs)\n",
    "        _, predictions = torch.max(outputs, 1)\n",
    "\n",
    "        train_predictions.extend(predictions.cpu().numpy())\n",
    "        train_labels.extend(labels.cpu().numpy())"
   ]
  },
  {
   "cell_type": "markdown",
   "metadata": {},
   "source": [
    "#### Model summary"
   ]
  },
  {
   "cell_type": "code",
   "execution_count": 18,
   "metadata": {},
   "outputs": [
    {
     "name": "stdout",
     "output_type": "stream",
     "text": [
      "Precision: 0.7073\n",
      "Recall: 0.7073\n",
      "Train Accuracy: 100.00%\n",
      "Test Accuracy: 70.73%\n",
      "F1 Score: 0.7073\n"
     ]
    }
   ],
   "source": [
    "train_accuracy = accuracy_score(train_labels, train_predictions)\n",
    "val_accuracy = accuracy_score(val_labels, val_predictions)\n",
    "\n",
    "precision = precision_score(val_labels, val_predictions, average='weighted')\n",
    "recall = recall_score(val_labels, val_predictions, average='weighted')\n",
    "f1 = f1_score(val_labels, val_predictions, average='weighted')\n",
    "\n",
    "print(f\"Precision: {precision:.4f}\")\n",
    "print(f\"Recall: {recall:.4f}\")\n",
    "print(f\"Train Accuracy: {train_accuracy * 100:.2f}%\")\n",
    "print(f\"Test Accuracy: {val_accuracy * 100:.2f}%\")\n",
    "print(f\"F1 Score: {f1:.4f}\")"
   ]
  },
  {
   "cell_type": "markdown",
   "metadata": {},
   "source": [
    "#### Confusion matrix on validation dataset"
   ]
  },
  {
   "cell_type": "code",
   "execution_count": 19,
   "metadata": {},
   "outputs": [
    {
     "name": "stdout",
     "output_type": "stream",
     "text": [
      "[[13  6]\n",
      " [ 6 16]]\n"
     ]
    },
    {
     "data": {
      "image/png": "[encoded data removed]",
      "text/plain": [
       "<Figure size 1000x800 with 2 Axes>"
      ]
     },
     "metadata": {},
     "output_type": "display_data"
    }
   ],
   "source": [
    "# ref: https://www.w3schools.com/python/python_ml_confusion_matrix.asp\n",
    "\n",
    "cm = confusion_matrix(val_labels, val_predictions)\n",
    "\n",
    "print(cm)\n",
    "\n",
    "ticks = [\"Surprise\", \"Fear\"]\n",
    "\n",
    "plt.figure(figsize=(10, 8))\n",
    "sns.heatmap(cm, annot=True, fmt='d', cmap='Blues', xticklabels=ticks, yticklabels=ticks)\n",
    "plt.xlabel('Predicted')\n",
    "plt.ylabel('Actual')\n",
    "plt.title('Confusion Matrix')\n",
    "plt.show()"
   ]
  },
  {
   "cell_type": "markdown",
   "metadata": {},
   "source": [
    "## Evaluation\n",
    "\n",
    "___\n",
    "\n",
    "#### ROC-AUC"
   ]
  },
  {
   "cell_type": "code",
   "execution_count": 20,
   "metadata": {},
   "outputs": [
    {
     "name": "stdout",
     "output_type": "stream",
     "text": [
      "FPR: [0.         0.31578947 1.        ], Len: 3\n",
      "TPR: [0.         0.72727273 1.        ], Len: 3\n",
      "AUC: 0.7057416267942584\n"
     ]
    },
    {
     "data": {
      "image/png": "[encoded data removed]",
      "text/plain": [
       "<Figure size 640x480 with 1 Axes>"
      ]
     },
     "metadata": {},
     "output_type": "display_data"
    }
   ],
   "source": [
    "from sklearn.metrics import roc_curve, roc_auc_score\n",
    "from sklearn.metrics import RocCurveDisplay\n",
    "\n",
    "fpr, tpr, thresholds = roc_curve(val_labels, val_predictions)\n",
    "auc_score = roc_auc_score(val_labels, val_predictions)\n",
    "\n",
    "print(f'FPR: {fpr}, Len: {len(fpr)}')\n",
    "print(f'TPR: {tpr}, Len: {len(tpr)}')\n",
    "print(f'AUC: {auc_score}')\n",
    "\n",
    "roc_display2 = RocCurveDisplay.from_predictions(val_labels, val_predictions)\n",
    "plt.grid(True)\n",
    "plt.show()\n",
    "\n"
   ]
  },
  {
   "cell_type": "markdown",
   "metadata": {},
   "source": [
    "#### 7-Fold Cross Validation"
   ]
  },
  {
   "cell_type": "code",
   "execution_count": 21,
   "metadata": {},
   "outputs": [
    {
     "name": "stdout",
     "output_type": "stream",
     "text": [
      "Current Fold: 0\n",
      "Epoch [1/10], Loss: 0.7136, Accuracy: 54.93%\n",
      "Epoch [2/10], Loss: 0.6005, Accuracy: 69.01%\n",
      "Epoch [3/10], Loss: 0.5387, Accuracy: 69.72%\n",
      "Epoch [4/10], Loss: 0.4853, Accuracy: 76.06%\n",
      "Epoch [5/10], Loss: 0.4193, Accuracy: 80.28%\n",
      "Epoch [6/10], Loss: 0.3309, Accuracy: 85.92%\n",
      "Epoch [7/10], Loss: 0.2642, Accuracy: 88.73%\n",
      "Epoch [8/10], Loss: 0.2394, Accuracy: 89.44%\n",
      "Epoch [9/10], Loss: 0.1797, Accuracy: 91.55%\n",
      "Epoch [10/10], Loss: 0.1431, Accuracy: 95.07%\n",
      "FOLD0 f1score: 0.6589430894308943\n",
      "Current Fold: 1\n",
      "Epoch [1/10], Loss: 0.7612, Accuracy: 46.48%\n",
      "Epoch [2/10], Loss: 0.6585, Accuracy: 63.38%\n",
      "Epoch [3/10], Loss: 0.6042, Accuracy: 64.08%\n",
      "Epoch [4/10], Loss: 0.5782, Accuracy: 69.72%\n",
      "Epoch [5/10], Loss: 0.5159, Accuracy: 76.06%\n",
      "Epoch [6/10], Loss: 0.4551, Accuracy: 80.99%\n",
      "Epoch [7/10], Loss: 0.3920, Accuracy: 84.51%\n",
      "Epoch [8/10], Loss: 0.3007, Accuracy: 87.32%\n",
      "Epoch [9/10], Loss: 0.2329, Accuracy: 89.44%\n",
      "Epoch [10/10], Loss: 0.1775, Accuracy: 93.66%\n",
      "FOLD1 f1score: 0.6794573356067908\n",
      "Current Fold: 2\n",
      "Epoch [1/10], Loss: 0.7364, Accuracy: 52.82%\n",
      "Epoch [2/10], Loss: 0.6779, Accuracy: 56.34%\n",
      "Epoch [3/10], Loss: 0.6334, Accuracy: 66.20%\n",
      "Epoch [4/10], Loss: 0.6168, Accuracy: 67.61%\n",
      "Epoch [5/10], Loss: 0.5655, Accuracy: 71.13%\n",
      "Epoch [6/10], Loss: 0.4945, Accuracy: 76.06%\n",
      "Epoch [7/10], Loss: 0.4883, Accuracy: 77.46%\n",
      "Epoch [8/10], Loss: 0.4185, Accuracy: 81.69%\n",
      "Epoch [9/10], Loss: 0.3919, Accuracy: 82.39%\n",
      "Epoch [10/10], Loss: 0.3667, Accuracy: 86.62%\n",
      "FOLD2 f1score: 0.6810361126867083\n",
      "Current Fold: 3\n",
      "Epoch [1/10], Loss: 0.7319, Accuracy: 50.00%\n",
      "Epoch [2/10], Loss: 0.6892, Accuracy: 57.04%\n",
      "Epoch [3/10], Loss: 0.6604, Accuracy: 58.45%\n",
      "Epoch [4/10], Loss: 0.6178, Accuracy: 66.20%\n",
      "Epoch [5/10], Loss: 0.5628, Accuracy: 70.42%\n",
      "Epoch [6/10], Loss: 0.4871, Accuracy: 80.28%\n",
      "Epoch [7/10], Loss: 0.4193, Accuracy: 80.28%\n",
      "Epoch [8/10], Loss: 0.3271, Accuracy: 86.62%\n",
      "Epoch [9/10], Loss: 0.2641, Accuracy: 89.44%\n",
      "Epoch [10/10], Loss: 0.1794, Accuracy: 95.77%\n",
      "FOLD3 f1score: 0.7073170731707317\n",
      "Current Fold: 4\n",
      "Epoch [1/10], Loss: 0.7437, Accuracy: 53.52%\n",
      "Epoch [2/10], Loss: 0.6757, Accuracy: 70.42%\n",
      "Epoch [3/10], Loss: 0.6325, Accuracy: 69.72%\n",
      "Epoch [4/10], Loss: 0.5897, Accuracy: 66.20%\n",
      "Epoch [5/10], Loss: 0.5680, Accuracy: 68.31%\n",
      "Epoch [6/10], Loss: 0.4713, Accuracy: 82.39%\n",
      "Epoch [7/10], Loss: 0.3919, Accuracy: 84.51%\n",
      "Epoch [8/10], Loss: 0.3242, Accuracy: 88.73%\n",
      "Epoch [9/10], Loss: 0.3601, Accuracy: 84.51%\n",
      "Epoch [10/10], Loss: 0.2100, Accuracy: 93.66%\n",
      "FOLD4 f1score: 0.6821650919211895\n",
      "Current Fold: 5\n",
      "Epoch [1/10], Loss: 0.7365, Accuracy: 57.34%\n",
      "Epoch [2/10], Loss: 0.7083, Accuracy: 53.15%\n",
      "Epoch [3/10], Loss: 0.6561, Accuracy: 63.64%\n",
      "Epoch [4/10], Loss: 0.6113, Accuracy: 65.73%\n",
      "Epoch [5/10], Loss: 0.6140, Accuracy: 63.64%\n",
      "Epoch [6/10], Loss: 0.5338, Accuracy: 73.43%\n",
      "Epoch [7/10], Loss: 0.4776, Accuracy: 72.73%\n",
      "Epoch [8/10], Loss: 0.4241, Accuracy: 83.22%\n",
      "Epoch [9/10], Loss: 0.3770, Accuracy: 83.92%\n",
      "Epoch [10/10], Loss: 0.2815, Accuracy: 89.51%\n",
      "FOLD5 f1score: 0.6003299163426418\n",
      "Current Fold: 6\n",
      "Epoch [1/10], Loss: 0.7073, Accuracy: 58.74%\n",
      "Epoch [2/10], Loss: 0.6815, Accuracy: 54.55%\n",
      "Epoch [3/10], Loss: 0.6665, Accuracy: 57.34%\n",
      "Epoch [4/10], Loss: 0.6210, Accuracy: 64.34%\n",
      "Epoch [5/10], Loss: 0.5769, Accuracy: 67.83%\n",
      "Epoch [6/10], Loss: 0.5865, Accuracy: 69.23%\n",
      "Epoch [7/10], Loss: 0.4758, Accuracy: 78.32%\n",
      "Epoch [8/10], Loss: 0.4359, Accuracy: 80.42%\n",
      "Epoch [9/10], Loss: 0.3695, Accuracy: 82.52%\n",
      "Epoch [10/10], Loss: 0.3797, Accuracy: 80.42%\n",
      "FOLD6 f1score: 0.6577235772357723\n",
      "Average f1 score: 0.67\n"
     ]
    }
   ],
   "source": [
    "f1_scores = []\n",
    "n_splits = 7\n",
    "kf = KFold(n_splits=n_splits, shuffle=False)\n",
    "\n",
    "for fold, (train_id,test_id) in enumerate(kf.split(train_dataset)):\n",
    "    print(f'Current Fold: {fold}')\n",
    "\n",
    "    fold_subset = torch.utils.data.Subset(train_dataset, train_id)\n",
    "    fold_loader = DataLoader(fold_subset, batch_size=16, shuffle=True, num_workers=4 )\n",
    "\n",
    "    device = torch.device(\"cuda\" if torch.cuda.is_available() else \"cpu\")\n",
    "    model = SocialSignalModel().to(device)\n",
    "    criterion = nn.CrossEntropyLoss()\n",
    "    optimizer = torch.optim.Adam(model.parameters(), lr=0.001) \n",
    "    model = training(fold_loader, num_epochs=num_epochs, model=model, device=device, criterion=criterion, optimizer=optimizer)\n",
    "    model.eval()\n",
    "    \n",
    "    predictions = []\n",
    "    labels = []\n",
    "    with torch.no_grad():  # No gradients needed for inference\n",
    "        for x,y in val_loader:\n",
    "            x = x.to(device) # Sequences\n",
    "            y = y.to(device) # Labels\n",
    "            y_predicted = model(x)\n",
    "            _, predicted = torch.max(y_predicted, 1)\n",
    "            labels.extend(y.cpu().numpy())\n",
    "            predictions.extend(predicted.cpu().numpy())\n",
    "                \n",
    "    predictions = np.array(predictions)\n",
    "    labels = np.array(labels)\n",
    "    f1 = f1_score(labels,predictions, average='weighted')\n",
    "    print(f'FOLD{fold} f1score: {f1}')\n",
    "    f1_scores.append(f1)\n",
    "\n",
    "f1_mean = np.mean(f1_scores)\n",
    "print(f'Average f1 score: {f1_mean:.2f}')"
   ]
  }
 ],
 "metadata": {
  "kernelspec": {
   "display_name": "base",
   "language": "python",
   "name": "python3"
  },
  "language_info": {
   "codemirror_mode": {
    "name": "ipython",
    "version": 3
   },
   "file_extension": ".py",
   "mimetype": "text/x-python",
   "name": "python",
   "nbconvert_exporter": "python",
   "pygments_lexer": "ipython3",
   "version": "3.12.3"
  }
 },
 "nbformat": 4,
 "nbformat_minor": 2
}
